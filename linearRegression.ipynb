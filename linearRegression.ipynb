{
 "cells": [
  {
   "cell_type": "code",
   "execution_count": 77,
   "metadata": {},
   "outputs": [
    {
     "name": "stderr",
     "output_type": "stream",
     "text": [
      "/Users/sumitbhanwala/anaconda3/lib/python3.6/importlib/_bootstrap.py:219: RuntimeWarning: compiletime version 3.5 of module 'tensorflow.python.framework.fast_tensor_util' does not match runtime version 3.6\n",
      "  return f(*args, **kwds)\n"
     ]
    }
   ],
   "source": [
    "import pandas as pd\n",
    "import numpy as np\n",
    "import tensorflow as tf\n",
    "from sklearn import datasets, linear_model"
   ]
  },
  {
   "cell_type": "code",
   "execution_count": 37,
   "metadata": {},
   "outputs": [],
   "source": [
    "# function for reading the data and returning the\n",
    "# the data to the linear functions for processing the data\n",
    "# we do preprocessing here itself \n",
    "def readSAP500():\n",
    "    \"\"\"Returns a dataframe with the results for Google and S&P 500\"\"\"\n",
    "  \n",
    "  # Point to where you've stored the CSV file on your local machine\n",
    "    googFile = 'data/GOOG.csv'\n",
    "    spFile = 'data/SP_500.csv'\n",
    "    goog = pd.read_csv(googFile, sep=\",\", usecols=[0,5], names=['Date','Goog'], header=0)\n",
    "    sp = pd.read_csv(spFile, sep=\",\", usecols=[0,5], names=['Date','SP500'], header=0)\n",
    "    goog['SP500'] = sp['SP500']\n",
    "  # The date object is a string, format it as a date\n",
    "    goog['Date'] = pd.to_datetime(goog['Date'], format='%Y-%m-%d')\n",
    "    goog = goog.sort_values(['Date'], ascending=[True])\n",
    "    returns = goog[[key for key in dict(goog.dtypes) if dict(goog.dtypes)[key] in ['float64', 'int64']]]\\\n",
    "            .pct_change()\n",
    "    return returns\n",
    "    "
   ]
  },
  {
   "cell_type": "code",
   "execution_count": 53,
   "metadata": {},
   "outputs": [],
   "source": [
    "def getData():\n",
    "    data = readSAP500()\n",
    "    xData = np.array(data[\"SP500\"])[1:]\n",
    "    yData = np.array(data[\"Goog\"])[1:]\n",
    "    return (xData, yData);\n"
   ]
  },
  {
   "cell_type": "code",
   "execution_count": 75,
   "metadata": {},
   "outputs": [],
   "source": [
    "def scikitLinear():\n",
    "    xData,  yData = getData();\n",
    "    ''' Creating a  regression Object from the sklean library which we will use on our data '''\n",
    "    regressionObject = linear_model.LinearRegression();\n",
    "    regressionObject.fit(xData.reshape(-1, 1), yData.reshape(-1, 1))\n",
    "    print('Coefficients: \\n', regressionObject.coef_)\n",
    "    print(\"the intercept is: \\n\", regressionObject.intercept_)"
   ]
  },
  {
   "cell_type": "code",
   "execution_count": 76,
   "metadata": {},
   "outputs": [
    {
     "name": "stdout",
     "output_type": "stream",
     "text": [
      "Coefficients: \n",
      " [[ 1.06768973]]\n",
      "the intercept is: \n",
      " [ 0.0084649]\n"
     ]
    }
   ],
   "source": [
    "scikitLinear()"
   ]
  },
  {
   "cell_type": "code",
   "execution_count": 95,
   "metadata": {},
   "outputs": [],
   "source": [
    "def tensorFlowLinearRegression():\n",
    "    xData,  yData = getData();\n",
    "    ## W haas to be a matrix as we have our X in the \n",
    "    ## for of the matrix while b is a scalar\n",
    "    W = tf.Variable(tf.zeros([1,1]) ,name = \"W\");\n",
    "    b = tf.Variable( tf.zeros([1]) , name = 'b');\n",
    "    X = tf.placeholder(tf.float32, [None , 1] ,name = 'X');\n",
    "    yreal = tf.placeholder(tf.float32, [None , 1] ,name = 'yreal');\n",
    "    matrixProduct = tf.matmul(X, W);\n",
    "    Y = matrixProduct + b;\n",
    "    cost = tf.reduce_mean(tf.square(Y- yreal));\n",
    "    trainStep = tf.train.FtrlOptimizer(1).minimize(cost);\n",
    "    init = tf.global_variables_initializer();\n",
    "    with tf.Session() as sess:\n",
    "        sess.run(init);\n",
    "        feed = {X: xData.reshape(-1, 1), yreal: yData.reshape(-1, 1)}\n",
    "        for i in range(10000):\n",
    "            sess.run(trainStep , feed_dict = feed);\n",
    "            if( i == 10000 -1):\n",
    "                print(sess.run(W));\n",
    "                print(sess.run(b));\n",
    "        \n",
    "    "
   ]
  },
  {
   "cell_type": "code",
   "execution_count": 96,
   "metadata": {},
   "outputs": [
    {
     "name": "stdout",
     "output_type": "stream",
     "text": [
      "[[ 1.06768572]]\n",
      "[ 0.00846492]\n"
     ]
    }
   ],
   "source": [
    "tensorFlowLinearRegression();"
   ]
  }
 ],
 "metadata": {
  "kernelspec": {
   "display_name": "Python [conda root]",
   "language": "python",
   "name": "conda-root-py"
  },
  "language_info": {
   "codemirror_mode": {
    "name": "ipython",
    "version": 3
   },
   "file_extension": ".py",
   "mimetype": "text/x-python",
   "name": "python",
   "nbconvert_exporter": "python",
   "pygments_lexer": "ipython3",
   "version": "3.6.3"
  }
 },
 "nbformat": 4,
 "nbformat_minor": 2
}
